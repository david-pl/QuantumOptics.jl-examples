{
 "cells": [
  {
   "cell_type": "markdown",
   "metadata": {
    "deletable": true,
    "editable": true
   },
   "source": [
    "*This notebook can be found on* [github](https://github.com/qojulia/QuantumOptics.jl-examples/tree/master/notebooks/manybody-fourlevel-system.ipynb)\n",
    "\n",
    "# Four level system in many-body formalism\n",
    "\n",
    "In this example, we illustrate the treatment of many-body quantum systems. A **ManyBodyBasis** can be used to describe indistinguishable particles that follow certain exchange symmetries (fermions or bosons). We can define an arbitrary quantum system - in this example a N-level system consisting of four energy states, and use it as foundation of a many-body basis. The basis states of the many-body basis then simply correspond to the number of particles that are in one of these four states. Which occupation states are included depends on the type of the particles (bosonic or fermionic) and if the particle number is preserved. For fermions the dimension of the Hilbert space is greatly reduced since it does not allow more than one particle in the same state (Pauli principle)."
   ]
  },
  {
   "cell_type": "code",
   "execution_count": null,
   "metadata": {
    "collapsed": false,
    "deletable": true,
    "editable": true
   },
   "outputs": [],
   "source": [
    "using QuantumOptics\n",
    "using PyPlot"
   ]
  },
  {
   "cell_type": "markdown",
   "metadata": {
    "deletable": true,
    "editable": true
   },
   "source": [
    "First, we define the four-level system and a Hamiltonian with energies $0, 1, 2, 3$."
   ]
  },
  {
   "cell_type": "code",
   "execution_count": null,
   "metadata": {
    "collapsed": false,
    "deletable": true,
    "editable": true
   },
   "outputs": [],
   "source": [
    "b = NLevelBasis(4)\n",
    "\n",
    "H = diagonaloperator(b, [0, 1, 2, 3]);"
   ]
  },
  {
   "cell_type": "markdown",
   "metadata": {
    "deletable": true,
    "editable": true
   },
   "source": [
    "Each of the states decays to the next lower one which we account for with the following jump operators."
   ]
  },
  {
   "cell_type": "code",
   "execution_count": null,
   "metadata": {
    "collapsed": false,
    "deletable": true,
    "editable": true
   },
   "outputs": [],
   "source": [
    "j34 = transition(b, 3, 4) # decay from 4th into 3rd level\n",
    "j23 = transition(b, 2, 3) # decay from 3rd into 2nd level\n",
    "j12 = transition(b, 1, 2) # decay from 2nd into 1st level;"
   ]
  },
  {
   "cell_type": "markdown",
   "metadata": {
    "deletable": true,
    "editable": true
   },
   "source": [
    "## Two fermions with conserved particle number\n",
    "Now, as a first example, we consider two fermionic particles. Each of them can occupy one of the four levels in the system, but not at the same time. To this end, we define a many-body basis associated to this N-level system. Calculating the many-body operators from the corresponding N-level operators can be done with the **manybodyoperator()** function. Basically it uses the relation\n",
    "$$\n",
    "    \\tilde{A} = \\sum_{st} c_s^\\dagger c_t \\langle u_s| A |u_t \\rangle\n",
    "$$\n",
    "\n",
    "to convert the one-body operator $A$ to the many-body operator $\\tilde{A}$. Here, $|u_i\\rangle$ is the $i$-th basis state of the initial basis (N-level system) and $c_s$ is the particle annihilation operator at site $s$."
   ]
  },
  {
   "cell_type": "code",
   "execution_count": null,
   "metadata": {
    "collapsed": false,
    "deletable": true,
    "editable": true
   },
   "outputs": [],
   "source": [
    "b_mb = ManyBodyBasis(b, fermionstates(b, 2))\n",
    "\n",
    "H_mb = manybodyoperator(b_mb, H)\n",
    "\n",
    "j34_mb = manybodyoperator(b_mb, j34)\n",
    "j23_mb = manybodyoperator(b_mb, j23)\n",
    "j12_mb = manybodyoperator(b_mb, j12)\n",
    "\n",
    "Γ = [3., 1., 0.5]\n",
    "J_mb = [j34_mb, j23_mb, j12_mb];"
   ]
  },
  {
   "cell_type": "markdown",
   "metadata": {
    "deletable": true,
    "editable": true
   },
   "source": [
    "The resulting many-body operators will then account for the decay as defined for the four-level system. For example, the jump operator j34_mb will map the state $|0101\\rangle$ to $|0110\\rangle$, i.e. moving a particle from state 4 into state 3.\n",
    "\n",
    "We can now calculate the time evolution according to a master equation, where the system is initially in the highest state $|0011\\rangle$ and over time decays into the ground state $|1100\\rangle$."
   ]
  },
  {
   "cell_type": "code",
   "execution_count": null,
   "metadata": {
    "collapsed": false,
    "deletable": true,
    "editable": true
   },
   "outputs": [],
   "source": [
    "T = [0:0.1:10;]\n",
    "Ψ0_mb = basisstate(b_mb, [0, 0, 1, 1])\n",
    "tout, ρt = timeevolution.master(T, Ψ0_mb, H_mb, J_mb; Gamma=Γ);"
   ]
  },
  {
   "cell_type": "markdown",
   "metadata": {
    "deletable": true,
    "editable": true
   },
   "source": [
    "Now, we can analyze the system from two point of views. We can ask for the probability that the system is in a certain many-body state, e.g. $|1 1 0 0\\rangle$ or $|0 0 1 1\\rangle$. Alternatively, one might like to know how many particles are in a certain N-level state."
   ]
  },
  {
   "cell_type": "code",
   "execution_count": null,
   "metadata": {
    "collapsed": false,
    "deletable": true,
    "editable": true
   },
   "outputs": [],
   "source": [
    "psi0011 = basisstate(b_mb, [0, 0, 1, 1])\n",
    "psi1100 = basisstate(b_mb, [1, 1, 0, 0])\n",
    "\n",
    "n0011 = psi0011 ⊗ dagger(psi0011)\n",
    "n1100 = psi1100 ⊗ dagger(psi1100)\n",
    "\n",
    "figure(figsize=(10, 3))\n",
    "subplot(1, 2, 1)\n",
    "plot(tout, real(expect(n0011, ρt)), label=\"n0011\")\n",
    "plot(tout, real(expect(n1100, ρt)), label=\"n1100\")\n",
    "legend()\n",
    "\n",
    "subplot(1, 2, 2)\n",
    "for i in 1:4\n",
    "    plot(tout, real(expect(number(b_mb, i), ρt)), label=\"level $i\")\n",
    "end\n",
    "legend();"
   ]
  },
  {
   "cell_type": "markdown",
   "metadata": {
    "deletable": true,
    "editable": true
   },
   "source": [
    "## Three bosons with particle loss\n",
    "\n",
    "As another example, we can instead consider three bosonic particles and additionally introduce particle loss. This results in many more possible basis states. We include this in the calculation by explicitly passing all possible particle numbers when creating the many-body basis, i.e. each state can be occupied by 0 to 3 particles."
   ]
  },
  {
   "cell_type": "code",
   "execution_count": null,
   "metadata": {
    "collapsed": false,
    "deletable": true,
    "editable": true
   },
   "outputs": [],
   "source": [
    "b_mb = ManyBodyBasis(b, bosonstates(b, [0, 1, 2, 3]))\n",
    "\n",
    "H_mb = manybodyoperator(b_mb, H)\n",
    "\n",
    "j34_mb = manybodyoperator(b_mb, j34)\n",
    "j23_mb = manybodyoperator(b_mb, j23)\n",
    "j12_mb = manybodyoperator(b_mb, j12);"
   ]
  },
  {
   "cell_type": "markdown",
   "metadata": {
    "deletable": true,
    "editable": true
   },
   "source": [
    "In addition to the spontaneous decay of the four-level system, we now also define a particle annihilation operator and include it in the jump operators."
   ]
  },
  {
   "cell_type": "code",
   "execution_count": null,
   "metadata": {
    "collapsed": false,
    "deletable": true,
    "editable": true
   },
   "outputs": [],
   "source": [
    "a1_mb = destroy(b_mb, 1) # Particles are lost from the first level\n",
    "\n",
    "Γ = [0.9, 0.5, 0.3, 3.0]\n",
    "J_mb = [j34_mb, j23_mb, j12_mb, a1_mb]\n",
    "\n",
    "T = [0:0.1:10;]\n",
    "Ψ0_mb = basisstate(b_mb, [0, 0, 0, 3]) # Initially, all particles are in the uppermost level\n",
    "tout, ρt = timeevolution.master(T, Ψ0_mb, H_mb, J_mb; Gamma=Γ);"
   ]
  },
  {
   "cell_type": "code",
   "execution_count": null,
   "metadata": {
    "collapsed": false,
    "deletable": true,
    "editable": true
   },
   "outputs": [],
   "source": [
    "figure(figsize=(5, 3))\n",
    "plot(tout, real(expect(number(b_mb), ρt)), \"--k\", alpha=0.6, label=\"particle number\")\n",
    "for i in 1:4\n",
    "    plot(tout, real(expect(number(b_mb, i), ρt)), label=\"level $i\")\n",
    "end\n",
    "legend();\n",
    "show()"
   ]
  },
  {
   "cell_type": "code",
   "execution_count": null,
   "metadata": {
    "collapsed": true,
    "deletable": true,
    "editable": true
   },
   "outputs": [],
   "source": []
  }
 ],
 "metadata": {
  "kernelspec": {
   "display_name": "Julia 0.5.1",
   "language": "julia",
   "name": "julia-0.5"
  },
  "language_info": {
   "file_extension": ".jl",
   "mimetype": "application/julia",
   "name": "julia",
   "version": "0.5.2"
  }
 },
 "nbformat": 4,
 "nbformat_minor": 2
}
