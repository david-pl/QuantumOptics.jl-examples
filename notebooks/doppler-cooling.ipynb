{
 "cells": [
  {
   "cell_type": "markdown",
   "metadata": {},
   "source": [
    "*This notebook can be found on* [github](https://github.com/qojulia/QuantumOptics.jl-examples/tree/master/notebooks/doppler-cooling.ipynb)\n",
    "\n",
    "# Doppler cooling of a two-level atom"
   ]
  },
  {
   "cell_type": "markdown",
   "metadata": {},
   "source": [
    "Doppler cooling relies on spontaneous emission of an atom that is coupled to a field that has a certain energy mismatch. The atomic motion then compensates for the missing energy.\n",
    "\n",
    "Consider a two-level atom moving in a coherently driven cavity. The Hamiltonian is\n",
    "\n",
    "$H = -\\Delta_c a^\\dagger a - \\Delta_a\\sigma^+\\sigma^- + \\eta(a + a^\\dagger) + g\\cos(x)(a^\\dagger \\sigma^- + a\\sigma^+),$\n",
    "\n",
    "where $\\Delta_c = \\omega_l - \\omega_c$, $\\Delta_a=\\omega_l - \\omega_a$ and $\\omega_c$ is the cavity frequency, $\\omega_a$ the atomic transition frequency and $\\omega_l$ the frequency of the laser driving the cavity. The pump strength is $\\eta$, while the atom couples to the cavity with $g$ and the cavity has a mode function $\\cos(x)$. The atomic position $x$ is in units of the inverse cavity wave number. Note that this is a number rather than an operator since we treat the atomic motion classically.\n",
    "\n",
    "Decay and cavity damping are modeled by the Liouvillians\n",
    "\n",
    "$\\mathcal{L}_c[\\rho] = \\kappa(2a\\rho a^\\dagger - a^\\dagger a \\rho - \\rho a^\\dagger a),$\n",
    "\n",
    "$\\mathcal{L}_a[\\rho] = \\gamma(2\\sigma^-\\rho\\sigma^+ - \\sigma^+\\sigma^-\\rho - \\rho\\sigma^+\\sigma^-)$.\n",
    "\n",
    "In addition we have the classical differential equations of the atomic motion obtained by making use of the Eherenfest theorem,\n",
    "\n",
    "$\\dot{x} = 2\\omega_r p$,\n",
    "\n",
    "$\\dot{p} = -\\partial_x\\langle H\\rangle = 2\\sin(x)~\\Re\\left\\{\\langle a^\\dagger\\sigma^-\\rangle\\right\\},$\n",
    "\n",
    "where $p$ is the momentum in units of the cavity wave number and $\\omega_r=k_c^2/(2m)$ is the recoil frequency.\n",
    "\n",
    "Note, that in order for the cavity to cool the atom, a cavity photon must have less energy than a photon on resonance with the atom, i.e. the cavity must be red-detuned from the atom ($\\omega_c < \\omega_a$). Specifically, one can show that the friction force is maximal if $\\omega_c - \\omega_a = -\\gamma$."
   ]
  },
  {
   "cell_type": "markdown",
   "metadata": {},
   "source": [
    "We will now use the implemented semi-classical master equation to solve the above dynamics.\n",
    "\n",
    "First, we define the necessary parameters, our Hilbert space and corresponding operators."
   ]
  },
  {
   "cell_type": "code",
   "execution_count": null,
   "metadata": {
    "collapsed": false
   },
   "outputs": [],
   "source": [
    "using QuantumOptics\n",
    "\n",
    "# Parameters\n",
    "Nc = 16\n",
    "γ = 1.\n",
    "g = γ/2.\n",
    "κ = 0.5γ\n",
    "ωr = .15γ\n",
    "Δc = 0.0\n",
    "Δa = -γ\n",
    "η = γ\n",
    "tmax = 500\n",
    "tsteps = 10*tmax\n",
    "dt = tmax/tsteps\n",
    "tlist = [0:dt:tmax;]\n",
    "\n",
    "# Hilbert space\n",
    "bc = FockBasis(Nc)\n",
    "ba = SpinBasis(1//2)\n",
    "\n",
    "# Operators\n",
    "a = destroy(bc) ⊗ one(ba)\n",
    "ad = dagger(a)\n",
    "sm = one(bc) ⊗ sigmam(ba)\n",
    "sp = dagger(sm);"
   ]
  },
  {
   "cell_type": "markdown",
   "metadata": {},
   "source": [
    "We now define the Hamiltonian as two separate parts, one that is position dependent and one that is independent of $x$. This is for reasons of performance, since it is more efficient to simply add the two parts where one is multiplied by $\\cos(x)$ than creating the entire Hamiltonian in every time-step."
   ]
  },
  {
   "cell_type": "code",
   "execution_count": null,
   "metadata": {
    "collapsed": false
   },
   "outputs": [],
   "source": [
    "# Hamiltonian\n",
    "H0 = -Δc*ad*a - Δa*sp*sm + η*(a + ad)\n",
    "Hx = g*(a*sp + ad*sm) # ∝ cos(x)\n",
    "\n",
    "# Jump operators\n",
    "J = [sqrt(2κ)*a, sqrt(2γ)*sm]\n",
    "Jdagger = map(dagger, J);"
   ]
  },
  {
   "cell_type": "markdown",
   "metadata": {},
   "source": [
    "The semi-classical time evolution requires two functions as arguments: one function that returns the updated Hamiltonian and jump operators at every step and one that returns the increment of the classical variables. Note, that the efficiency of the operations performed inside these function is very important for overall perfomance, each function is called at every time-step."
   ]
  },
  {
   "cell_type": "code",
   "execution_count": null,
   "metadata": {
    "collapsed": true
   },
   "outputs": [],
   "source": [
    "function fquantum(t, psi, u) # psi is the quantum, u the classical part\n",
    "  x = u[1]\n",
    "  return H0 + Hx*cos(x), J, Jdagger\n",
    "end\n",
    "\n",
    "adsm = ad*sm #Define to avoid doing a multiplication at every step\n",
    "function fclassical(t, psi, u, du) # du is a vector containing the increments of the classical variables\n",
    "  du[1] = 2ωr*u[2]\n",
    "  du[2] = 2g*sin(u[1])*real(expect(ad*sm, psi))\n",
    "end;"
   ]
  },
  {
   "cell_type": "markdown",
   "metadata": {},
   "source": [
    "Before we calculate the time evolution, we need to define the initial state which needs to be a semi-classical one. It consists of a quantum part (a ket or density operator) and a vector of classical variables. **Note**: the vector containing the **classical variables** needs to be **complex**."
   ]
  },
  {
   "cell_type": "code",
   "execution_count": null,
   "metadata": {
    "collapsed": false
   },
   "outputs": [],
   "source": [
    "x0 = sqrt(2) # Some arbitrary initial position\n",
    "p0 = 7.0 # Some arbitrary initial momentum\n",
    "u0 = Complex128[x0, p0]\n",
    "\n",
    "ψ0 = fockstate(bc, 0) ⊗ spindown(ba)\n",
    "\n",
    "ψsc0 = semiclassical.State(ψ0, u0);"
   ]
  },
  {
   "cell_type": "markdown",
   "metadata": {},
   "source": [
    "Finally, we can calculate the time evolution by calling dynamic master equation solver from the semiclassical module."
   ]
  },
  {
   "cell_type": "code",
   "execution_count": null,
   "metadata": {
    "collapsed": true
   },
   "outputs": [],
   "source": [
    "tout, ρt = semiclassical.master_dynamic(tlist, ψsc0, fquantum, fclassical);"
   ]
  },
  {
   "cell_type": "markdown",
   "metadata": {},
   "source": [
    "We can now calculate expectation values as with any other density operator and retrieve the classical variables."
   ]
  },
  {
   "cell_type": "code",
   "execution_count": null,
   "metadata": {
    "collapsed": true
   },
   "outputs": [],
   "source": [
    "x = Float64[]\n",
    "p = Float64[]\n",
    "for r=ρt\n",
    "    push!(x, real(r.classical[1]))\n",
    "    push!(p, real(r.classical[2]))\n",
    "end\n",
    "\n",
    "n = real(expect(ad*a, ρt))\n",
    "pe = real(expect(sp*sm, ρt));"
   ]
  },
  {
   "cell_type": "code",
   "execution_count": null,
   "metadata": {
    "collapsed": false
   },
   "outputs": [],
   "source": [
    "using PyPlot\n",
    "\n",
    "figure(figsize=(10, 5))\n",
    "subplot(221)\n",
    "plot(tout, x)\n",
    "xlabel(L\"$t$\")\n",
    "ylabel(L\"$x$\")\n",
    "\n",
    "subplot(222)\n",
    "plot(tout, p.^2)\n",
    "xlabel(L\"$t$\")\n",
    "ylabel(L\"$E_{kin}$\")\n",
    "\n",
    "subplot(223)\n",
    "plot(tout, n)\n",
    "xlabel(L\"$t$\")\n",
    "ylabel(L\"$n$\")\n",
    "\n",
    "subplot(224)\n",
    "plot(tout, pe)\n",
    "xlabel(L\"$t$\")\n",
    "ylabel(L\"$\\langle \\sigma^+\\sigma^-\\rangle$\")\n",
    "\n",
    "tight_layout();"
   ]
  },
  {
   "cell_type": "code",
   "execution_count": null,
   "metadata": {
    "collapsed": true
   },
   "outputs": [],
   "source": []
  }
 ],
 "metadata": {
  "kernelspec": {
   "display_name": "Julia 0.5.1",
   "language": "julia",
   "name": "julia-0.5"
  },
  "language_info": {
   "file_extension": ".jl",
   "mimetype": "application/julia",
   "name": "julia",
   "version": "0.5.2"
  }
 },
 "nbformat": 4,
 "nbformat_minor": 2
}
