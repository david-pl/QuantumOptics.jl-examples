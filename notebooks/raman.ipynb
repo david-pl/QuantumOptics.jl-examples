{
 "cells": [
  {
   "cell_type": "markdown",
   "metadata": {
    "deletable": true,
    "editable": true
   },
   "source": [
    "*This notebook can be found on* [github](https://github.com/qojulia/QuantumOptics.jl-examples/tree/master/notebooks/raman.ipynb)\n",
    "\n",
    "\n",
    "# Raman Transition of a $\\Lambda$-scheme Atom"
   ]
  },
  {
   "cell_type": "markdown",
   "metadata": {
    "deletable": true,
    "editable": true
   },
   "source": [
    "Consider a three-level atom with two ground states and one excited state ($\\Lambda$-scheme), which decays only to one of the ground states. The atom is initially prepared in one of its ground states (the one it does not decay into). A Raman transition occurs when the transition from the initial ground state to the excited state is driven by a laser that is far detuned from the transition, but matches the energy difference between the two ground states. In this case, the atom is driven from the initial ground state to its other ground state without ever populating the excited state (even though no direct transition between the two ground states is possible).\n",
    "\n",
    "This system is described by the Hamiltonian\n",
    "\n",
    "$H = \\Delta_2|2\\rangle\\langle2| + \\Delta_3|3\\rangle\\langle3| + \\Omega\\left(\\sigma_1 + \\sigma_1^\\dagger\\right),$\n",
    "\n",
    "where $|1\\rangle$ is the initial ground state with energy 0, $|2\\rangle$ is the excited state and $|3\\rangle$ is the final ground state. The detunings $\\Delta_{2,3}$ are with respect to the laser driving the transition $|1\\rangle\\to|2\\rangle$. Matching the laser frequency to the energy difference between $|1\\rangle$ and $|3\\rangle$ means $\\Delta_3=0$. The laser has the amplitude $\\Omega$ and drives the transition with the operators $\\sigma_1=|1\\rangle\\langle2|$.\n",
    "\n",
    "The decay is given by the Lindblad super-operator\n",
    "\n",
    "$\\mathcal{L}[\\rho] = \\frac{\\gamma_3}{2}\\left(2\\sigma_3\\rho\\sigma_3^\\dagger - \\sigma_3^\\dagger\\sigma_3\\rho - \\rho\\sigma_3^\\dagger\\sigma_3\\right),$\n",
    "\n",
    "where $\\gamma_3$ is the rate of decay and $\\sigma_3=|3\\rangle\\langle2|$."
   ]
  },
  {
   "cell_type": "markdown",
   "metadata": {
    "deletable": true,
    "editable": true
   },
   "source": [
    "As always, the first step is to import the libraries we will use."
   ]
  },
  {
   "cell_type": "code",
   "execution_count": null,
   "metadata": {
    "collapsed": false,
    "deletable": true,
    "editable": true
   },
   "outputs": [],
   "source": [
    "using QuantumOptics\n",
    "using PyPlot"
   ]
  },
  {
   "cell_type": "markdown",
   "metadata": {
    "deletable": true,
    "editable": true
   },
   "source": [
    "Next, we define the parameters we need."
   ]
  },
  {
   "cell_type": "code",
   "execution_count": null,
   "metadata": {
    "collapsed": false,
    "deletable": true,
    "editable": true
   },
   "outputs": [],
   "source": [
    "# Parameters\n",
    "γ₃ = 1.\n",
    "Ω = .5γ₃\n",
    "Δ₂ = 5γ₃\n",
    "Δ₃ = 0.0\n",
    "tmax = 800/γ₃\n",
    "dt = 0.1\n",
    "tlist = [0:dt:tmax;];"
   ]
  },
  {
   "cell_type": "markdown",
   "metadata": {
    "deletable": true,
    "editable": true
   },
   "source": [
    "In this example, we make use of the N-level basis, which we initialize by passing the number of levels of our atom. We then define the respective transition operators."
   ]
  },
  {
   "cell_type": "code",
   "execution_count": null,
   "metadata": {
    "collapsed": false,
    "deletable": true,
    "editable": true
   },
   "outputs": [],
   "source": [
    "# Basis and operators\n",
    "b = NLevelBasis(3)\n",
    "σ₁ = transition(b, 1, 2)\n",
    "σ₃ = transition(b, 3, 2)\n",
    "proj₂ = transition(b, 2, 2)\n",
    "proj₃ = σ₃*dagger(σ₃);"
   ]
  },
  {
   "cell_type": "markdown",
   "metadata": {
    "deletable": true,
    "editable": true
   },
   "source": [
    "This makes it easy to write down the Hamiltonian and the Jump operators. We also initialize the atom in state $|1\\rangle$."
   ]
  },
  {
   "cell_type": "code",
   "execution_count": null,
   "metadata": {
    "collapsed": false,
    "deletable": true,
    "editable": true
   },
   "outputs": [],
   "source": [
    "# Hamiltonian and jump operators\n",
    "H = Δ₂*proj₂ + Δ₃*proj₃ + Ω*(σ₁ + dagger(σ₁))\n",
    "J = [sqrt(γ₃)*σ₃];\n",
    "\n",
    "# Initial state\n",
    "ψ₀ = nlevelstate(b, 1);"
   ]
  },
  {
   "cell_type": "markdown",
   "metadata": {
    "deletable": true,
    "editable": true
   },
   "source": [
    "Since we are only interested in the state populations, i.e. three different expectation values, we can save memory by passing an output function as additional argument to the master equation solver. This will evaluate the function rather than returning a density matrix for each time-step, and so we simply write a function that calculates the expectation values of interest and returns them with the corresponding list of times."
   ]
  },
  {
   "cell_type": "code",
   "execution_count": null,
   "metadata": {
    "collapsed": false,
    "deletable": true,
    "editable": true
   },
   "outputs": [],
   "source": [
    "# Expectation values\n",
    "tout = Float64[]\n",
    "p1 = Float64[]\n",
    "p2 = Float64[]\n",
    "p3 = Float64[]\n",
    "function calc_pops(t, ρ)\n",
    "    push!(tout, t)\n",
    "    push!(p1, real(expect(σ₁*dagger(σ₁), ρ)))\n",
    "    push!(p2, real(expect(proj₂, ρ)))\n",
    "    push!(p3, real(expect(proj₃, ρ)))\n",
    "end;"
   ]
  },
  {
   "cell_type": "markdown",
   "metadata": {
    "deletable": true,
    "editable": true
   },
   "source": [
    "Now, we pass everything to the master equation solver."
   ]
  },
  {
   "cell_type": "code",
   "execution_count": null,
   "metadata": {
    "collapsed": true,
    "deletable": true,
    "editable": true
   },
   "outputs": [],
   "source": [
    "# Time evolution\n",
    "timeevolution.master(tlist, ψ₀, H, J; fout=calc_pops)"
   ]
  },
  {
   "cell_type": "markdown",
   "metadata": {
    "deletable": true,
    "editable": true
   },
   "source": [
    "Finally, all that is left to do is to plot the result."
   ]
  },
  {
   "cell_type": "code",
   "execution_count": null,
   "metadata": {
    "collapsed": false,
    "deletable": true,
    "editable": true
   },
   "outputs": [],
   "source": [
    "# Plots\n",
    "figure(figsize=(6, 3))\n",
    "plot(tout, p1, label=\"Initial ground state\")\n",
    "plot(tout, p2, \"--\", label=\"Excited state\")\n",
    "plot(tout, p3, label=\"Other ground state\")\n",
    "axis([0, tmax, 0, 1])\n",
    "legend();\n",
    "show()"
   ]
  },
  {
   "cell_type": "code",
   "execution_count": null,
   "metadata": {
    "collapsed": true,
    "deletable": true,
    "editable": true
   },
   "outputs": [],
   "source": []
  }
 ],
 "metadata": {
  "anaconda-cloud": {},
  "kernelspec": {
   "display_name": "Julia 0.5.1",
   "language": "julia",
   "name": "julia-0.5"
  },
  "language_info": {
   "file_extension": ".jl",
   "mimetype": "application/julia",
   "name": "julia",
   "version": "0.5.2"
  }
 },
 "nbformat": 4,
 "nbformat_minor": 1
}
