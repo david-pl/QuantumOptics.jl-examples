{
 "cells": [
  {
   "cell_type": "markdown",
   "metadata": {
    "deletable": true,
    "editable": true
   },
   "source": [
    "*This notebook can be found on* [github](https://github.com/qojulia/QuantumOptics.jl-examples/tree/master/notebooks/pumped-cavity.ipynb)\n",
    "\n",
    "# Pumped cavity"
   ]
  },
  {
   "cell_type": "code",
   "execution_count": null,
   "metadata": {
    "collapsed": false,
    "deletable": true,
    "editable": true
   },
   "outputs": [],
   "source": [
    "using QuantumOptics\n",
    "using PyPlot"
   ]
  },
  {
   "cell_type": "markdown",
   "metadata": {
    "deletable": true,
    "editable": true
   },
   "source": [
    "Define parameters"
   ]
  },
  {
   "cell_type": "code",
   "execution_count": null,
   "metadata": {
    "collapsed": true,
    "deletable": true,
    "editable": true
   },
   "outputs": [],
   "source": [
    "srand(0)\n",
    "η = 0.9 # Pumping strength\n",
    "κ = 1 # Decay rate\n",
    "\n",
    "Ncutoff = 20 # Maximum photon number\n",
    "T = [0:0.1:10;];"
   ]
  },
  {
   "cell_type": "markdown",
   "metadata": {
    "deletable": true,
    "editable": true
   },
   "source": [
    " Create Fock basis and all operators"
   ]
  },
  {
   "cell_type": "code",
   "execution_count": null,
   "metadata": {
    "collapsed": true,
    "deletable": true,
    "editable": true
   },
   "outputs": [],
   "source": [
    "basis = FockBasis(20)\n",
    "a = destroy(basis)\n",
    "at = create(basis)\n",
    "n = number(basis)\n",
    "H = η*(a+at)\n",
    "J = [sqrt(κ)*a];"
   ]
  },
  {
   "cell_type": "markdown",
   "metadata": {
    "deletable": true,
    "editable": true
   },
   "source": [
    "Define initial state"
   ]
  },
  {
   "cell_type": "code",
   "execution_count": null,
   "metadata": {
    "collapsed": true,
    "deletable": true,
    "editable": true
   },
   "outputs": [],
   "source": [
    "Ψ₀ = fockstate(basis, 10)\n",
    "ρ₀ = Ψ₀ ⊗ dagger(Ψ₀);"
   ]
  },
  {
   "cell_type": "markdown",
   "metadata": {
    "deletable": true,
    "editable": true
   },
   "source": [
    "Time evolution according to master equation"
   ]
  },
  {
   "cell_type": "code",
   "execution_count": null,
   "metadata": {
    "collapsed": true,
    "deletable": true,
    "editable": true
   },
   "outputs": [],
   "source": [
    "tout, ρt_master = timeevolution.master(T, ρ₀, H, J);"
   ]
  },
  {
   "cell_type": "markdown",
   "metadata": {
    "deletable": true,
    "editable": true
   },
   "source": [
    "Three different monte carlo trajectories"
   ]
  },
  {
   "cell_type": "code",
   "execution_count": null,
   "metadata": {
    "collapsed": false,
    "deletable": true,
    "editable": true
   },
   "outputs": [],
   "source": [
    "tout_example1, Ψt_example1 = timeevolution.mcwf(T, Ψ₀, H, J; seed=UInt(1),\n",
    "                                        display_beforeevent=true,\n",
    "                                        display_afterevent=true)\n",
    "\n",
    "tout_example2, Ψt_example2 = timeevolution.mcwf(T, Ψ₀, H, J; seed=UInt(2),\n",
    "                                        display_beforeevent=true,\n",
    "                                        display_afterevent=true)\n",
    "\n",
    "tout_example3, Ψt_example3 = timeevolution.mcwf(T, Ψ₀, H, J; seed=UInt(3),\n",
    "                                        display_beforeevent=true,\n",
    "                                        display_afterevent=true);"
   ]
  },
  {
   "cell_type": "markdown",
   "metadata": {
    "deletable": true,
    "editable": true
   },
   "source": [
    "Calculate expectation values $\\langle n(t) \\rangle$ by averaging single monte carlo trajectory expectation values"
   ]
  },
  {
   "cell_type": "code",
   "execution_count": null,
   "metadata": {
    "collapsed": false,
    "deletable": true,
    "editable": true
   },
   "outputs": [],
   "source": [
    "Ntrajectories = 50\n",
    "\n",
    "n_average = zeros(Float64, length(T))\n",
    "function fout(t::Float64, psi::Ket)\n",
    "    i = findfirst(T, t)\n",
    "    n_average[i] += real(expect(n, psi)/norm(psi)^2)\n",
    "end\n",
    "\n",
    "for i=1:Ntrajectories\n",
    "    timeevolution.mcwf(T, Ψ₀, H, J; fout=fout)\n",
    "end\n",
    "n_average /= Ntrajectories;"
   ]
  },
  {
   "cell_type": "markdown",
   "metadata": {
    "deletable": true,
    "editable": true
   },
   "source": [
    "Plot the result $\\langle n(t) \\rangle$ for the master equation, three different single MCWF trajectories and the average of many MCWF trajectories"
   ]
  },
  {
   "cell_type": "code",
   "execution_count": null,
   "metadata": {
    "collapsed": false,
    "deletable": true,
    "editable": true
   },
   "outputs": [],
   "source": [
    "plot(T, real(expect(n, ρt_master)))\n",
    "plot(T, n_average, \"--\")\n",
    "plot(tout_example1, real(expect(n, Ψt_example1)), \"C1--\", alpha=0.5)\n",
    "plot(tout_example2, real(expect(n, Ψt_example2)), \"C1--\", alpha=0.5)\n",
    "plot(tout_example3, real(expect(n, Ψt_example3)), \"C1--\", alpha=0.5)\n",
    "\n",
    "xlim(0, 10)\n",
    "ylim(0, 10)\n",
    "xlabel(\"\\$\\\\mathrm\\{Time\\} \\$\")\n",
    "ylabel(\"\\$\\\\mathrm{Photon number}\\$\");\n",
    "show()"
   ]
  },
  {
   "cell_type": "code",
   "execution_count": null,
   "metadata": {
    "collapsed": true,
    "deletable": true,
    "editable": true
   },
   "outputs": [],
   "source": []
  }
 ],
 "metadata": {
  "kernelspec": {
   "display_name": "Julia 0.5.1",
   "language": "julia",
   "name": "julia-0.5"
  },
  "language_info": {
   "file_extension": ".jl",
   "mimetype": "application/julia",
   "name": "julia",
   "version": "0.5.2"
  }
 },
 "nbformat": 4,
 "nbformat_minor": 2
}
